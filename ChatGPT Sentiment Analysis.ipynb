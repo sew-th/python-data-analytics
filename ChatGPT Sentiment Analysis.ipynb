{
 "cells": [
  {
   "cell_type": "code",
   "execution_count": 41,
   "metadata": {
    "scrolled": true
   },
   "outputs": [],
   "source": [
    "import openai\n",
    "import pandas as pd\n",
    "import csv\n",
    "import string\n",
    "import csv\n",
    "\n",
    "# Define OpenAI API key \n",
    "openai.api_key = \"my_api_key\"\n",
    "#df=str(pd.read_excel('C:\\\\Users\\\\Sew-th\\\\Desktop\\\\Python Datasets\\\\ChatGPTPrompt.xlsx', header=None,))\n",
    "\n",
    "\n",
    "# Set up the model and prompt\n",
    "model_engine = \"text-davinci-003\"\n",
    "results=[]\n",
    "# Generate a response\n",
    "with open('reviews.csv', newline='\\r') as reviews:\n",
    "    for line in reviews:\n",
    "        line=line.replace(\"\\n\",\"\")\n"
    "            engine=model_engine,\n",
    "            prompt=\"\"\"Please extract aspect expressions and related sentiments from the following text: \n",
    "            This product is good. Especially the battery life. Aspects:\n",
    "            [{\"aspect\":\"overall satisfaction\",\"sentiment\":\"positive\"}, {\"aspect\":\"battery life\",\"sentiment\":\"positive\"}, {\"aspect\":\"picture quality\",\"sentiment\":\"positive\"}, {\"aspect\":\"design\",\"sentiment\":\"negative\"}]\"\"\"+line,\n",
    "            max_tokens=1024,\n",
    "            n=1,\n",
    "            temperature=0.5)\n",
    "        results.append(completion.choices[1].text)\n",
    "\n",
    "#response = completion.choices[0].text\n",
    "#print(response)"
   ]
  },
  {
   "cell_type": "code",
   "execution_count": 42,
   "metadata": {},
   "outputs": [
    {
     "data": {
      "text/plain": [
       "['[{\"aspect\":\"overall satisfaction\",\"sentiment\":\"positive\"}, {\"aspect\":\"ease of setup\",\"sentiment\":\"positive\"}, {\"aspect\":\"accessories availability\",\"sentiment\":\"negative\"}]',\n",
       " '[{\"aspect\":\"overall satisfaction\",\"sentiment\":\"positive\"}, {\"aspect\":\"ease of setup\",\"sentiment\":\"positive\"}, {\"aspect\":\"Samsung products\",\"sentiment\":\"positive\"}]',\n",
       " '[{\"aspect\":\"overall satisfaction\",\"sentiment\":\"positive\"}, {\"aspect\":\"price\",\"sentiment\":\"positive\"}, {\"aspect\":\"ease of setup\",\"sentiment\":\"positive\"}, {\"aspect\":\"streaming performance\",\"sentiment\":\"positive\"}, {\"aspect\":\"Samsung S2 tablet\",\"sentiment\":\"negative\"}]',\n",
       " '[{\"aspect\":\"overall satisfaction\",\"sentiment\":\"positive\"}, {\"aspect\":\"battery life\",\"sentiment\":\"positive\"}, {\"aspect\":\"picture quality\",\"sentiment\":\"positive\"}, {\"aspect\":\"design\",\"sentiment\":\"negative\"}, {\"aspect\":\"speed\",\"sentiment\":\"positive\"}, {\"aspect\":\"resolution\",\"sentiment\":\"positive\"}]',\n",
       " 'Aspects: [{\"aspect\":\"overall satisfaction\",\"sentiment\":\"positive\"}, {\"aspect\":\"cost\",\"sentiment\":\"positive\"}, {\"aspect\":\"android OS\",\"sentiment\":\"positive\"}, {\"aspect\":\"lyrics display\",\"sentiment\":\"positive\"}, {\"aspect\":\"screen size\",\"sentiment\":\"positive\"}, {\"aspect\":\"external storage\",\"sentiment\":\"positive\"}]',\n",
       " '[{\"aspect\":\"overall satisfaction\",\"sentiment\":\"positive\"}, {\"aspect\":\"battery life\",\"sentiment\":\"positive\"}, {\"aspect\":\"picture quality\",\"sentiment\":\"positive\"}, {\"aspect\":\"design\",\"sentiment\":\"negative\"}, {\"aspect\":\"screen resolution\",\"sentiment\":\"negative\"}, {\"aspect\":\"price point\",\"sentiment\":\"positive\"}, {\"aspect\":\"size\",\"sentiment\":\"positive\"}, {\"aspect\":\"form factor\",\"sentiment\":\"positive\"}]',\n",
       " '']"
      ]
     },
     "execution_count": 42,
     "metadata": {},
     "output_type": "execute_result"
    }
   ],
   "source": [
    "results_cleaned=[s.strip() for s in results]\n",
    "results_cleaned"
   ]
  },
  {
   "cell_type": "code",
   "execution_count": 3,
   "metadata": {},
   "outputs": [
    {
     "data": {
      "text/plain": [
       "['\\nAspects: [{\"aspect\":\"overall satisfaction\",\"sentiment\":\"positive\"}, {\"aspect\":\"price\",\"sentiment\":\"positive\"}, {\"aspect\":\"performance\",\"sentiment\":\"positive\"}]',\n",
       " '\\nAspects:\\n[{\"aspect\":\"overall satisfaction\",\"sentiment\":\"positive\"}, {\"aspect\":\"Samsung Galaxy Tablet\",\"sentiment\":\"positive\"}, {\"aspect\":\"budget\",\"sentiment\":\"positive\"}, {\"aspect\":\"model\",\"sentiment\":\"positive\"}, {\"aspect\":\"Samsung Galaxy Tab A8 10.5” 32GB Android Tablet w/ LCD Screen\",\"sentiment\":\"positive\"}]',\n",
       " '\\n[{\"aspect\":\"overall satisfaction\",\"sentiment\":\"positive\"}, {\"aspect\":\"ease of setup\",\"sentiment\":\"positive\"}, {\"aspect\":\"package contents\",\"sentiment\":\"negative\"}, {\"aspect\":\"accessories\",\"sentiment\":\"negative\"}, {\"aspect\":\"stand\",\"sentiment\":\"negative\"}]',\n",
       " '\\nAspects:\\n[{\"aspect\":\"ease of setup\",\"sentiment\":\"positive\"}, {\"aspect\":\"transfer of data\",\"sentiment\":\"positive\"}]',\n",
       " '\\n[{\"aspect\":\"overall satisfaction\",\"sentiment\":\"positive\"}, {\"aspect\":\"Samsung tables\",\"sentiment\":\"positive\"}, {\"aspect\":\"Samsung phones\",\"sentiment\":\"positive\"}, {\"aspect\":\"Samsung smartwatches\",\"sentiment\":\"positive\"}]',\n",
       " '\\n[{\"aspect\":\"overall satisfaction\",\"sentiment\":\"positive\"}, {\"aspect\":\"price\",\"sentiment\":\"positive\"}, {\"aspect\":\"ease of setup\",\"sentiment\":\"positive\"}, {\"aspect\":\"streaming capability\",\"sentiment\":\"positive\"}, {\"aspect\":\"Samsung S2 tablet\",\"sentiment\":\"negative\"}]',\n",
       " '\\n[{\"aspect\":\"overall satisfaction\",\"sentiment\":\"positive\"}, {\"aspect\":\"battery life\",\"sentiment\":\"positive\"}, {\"aspect\":\"picture quality\",\"sentiment\":\"positive\"}, {\"aspect\":\"design\",\"sentiment\":\"negative\"}, {\"aspect\":\"speed\",\"sentiment\":\"positive\"}, {\"aspect\":\"resolution\",\"sentiment\":\"positive\"}]',\n",
       " '\\n[{\"aspect\":\"overall satisfaction\",\"sentiment\":\"positive\"}, {\"aspect\":\"cost\",\"sentiment\":\"positive\"}, {\"aspect\":\"Android OS\",\"sentiment\":\"positive\"}, {\"aspect\":\"lyrics display\",\"sentiment\":\"positive\"}, {\"aspect\":\"screen size\",\"sentiment\":\"positive\"}, {\"aspect\":\"external storage\",\"sentiment\":\"positive\"}]',\n",
       " '\\n[{\"aspect\":\"screen resolution\",\"sentiment\":\"negative\"}, {\"aspect\":\"size\",\"sentiment\":\"positive\"}, {\"aspect\":\"form factor\",\"sentiment\":\"positive\"}, {\"aspect\":\"price point\",\"sentiment\":\"positive\"}]']"
      ]
     },
     "execution_count": 3,
     "metadata": {},
     "output_type": "execute_result"
    }
   ],
   "source": [
    "results"
   ]
  },
  {
   "cell_type": "code",
   "execution_count": 43,
   "metadata": {},
   "outputs": [],
   "source": [
    "#write file\n",
    "headers = [\"Review Output\"]\n",
    "with open('Classified_Reviews.csv', 'w', newline='') as csvfile:\n",
    "    writer = csv.writer(csvfile, delimiter=',')\n",
    "    writer.writerow(headers)\n",
    "    for i in range(len(results_cleaned)):\n",
    "        row = [results_cleaned[i]]\n",
    "        writer.writerow(row)"
   ]
  }
 ],
 "metadata": {
  "kernelspec": {
   "display_name": "Python 3",
   "language": "python",
   "name": "python3"
  },
  "language_info": {
   "codemirror_mode": {
    "name": "ipython",
    "version": 3
   },
   "file_extension": ".py",
   "mimetype": "text/x-python",
   "name": "python",
   "nbconvert_exporter": "python",
   "pygments_lexer": "ipython3",
   "version": "3.8.3"
  }
 },
 "nbformat": 4,
 "nbformat_minor": 4
}
